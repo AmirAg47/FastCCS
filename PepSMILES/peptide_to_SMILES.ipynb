{
 "cells": [
  {
   "cell_type": "code",
   "execution_count": 1,
   "id": "a79d04fe",
   "metadata": {},
   "outputs": [],
   "source": [
    "import pandas as pd\n",
    "from rdkit import Chem\n",
    "from rdkit.Chem import AllChem\n"
   ]
  },
  {
   "cell_type": "code",
   "execution_count": 3,
   "id": "4f5170f4",
   "metadata": {},
   "outputs": [
    {
     "name": "stdout",
     "output_type": "stream",
     "text": [
      "Original DataFrame:\n",
      "   Mass_Tag_ID Peptide  Mass_Tag_Mass  Mass_Tag_NET  Charge State  Mobility  \\\n",
      "0     10098159  TAGLVR       615.3704         0.178             2     1.461   \n",
      "1     10098159  TAGLVR       615.3704         0.178             1     0.936   \n",
      "2      6702362  LTALTK       645.4061         0.200             2     1.547   \n",
      "3     20754127  IVEAVK       657.4061         0.183             2     1.413   \n",
      "4     20754127  IVEAVK       657.4061         0.183             1     0.882   \n",
      "\n",
      "   Cross-section    Slope  Intercept  R2_Value  Drift time  Organism  \\\n",
      "0        284.569   8031.1       1.54     1.000    20.642744       HP   \n",
      "1        222.205  12542.1       3.15     1.000    32.975144       HP   \n",
      "2        268.581   7587.5       1.86     0.999    19.904767       HP   \n",
      "3        293.921   8306.6       1.73     0.999    21.482614       MP   \n",
      "4        235.389  13304.7       2.12     1.000    33.758620       MP   \n",
      "\n",
      "   Unnamed: 12 Unnamed: 13                 Unnamed: 14  \n",
      "0          NaN          HP                Human Plasma  \n",
      "1          NaN         MP                 Mouse Plasma  \n",
      "2          NaN        Shew  Shewenella Oneidensis MR-1  \n",
      "3          NaN         NaN                         NaN  \n",
      "4          NaN         NaN                         NaN  \n"
     ]
    }
   ],
   "source": [
    "file_name = 'peptides.csv'\n",
    "\n",
    "# Attempt to read the CSV file with different encodings\n",
    "try:\n",
    "    df = pd.read_csv(file_name, encoding='utf-8')\n",
    "except UnicodeDecodeError:\n",
    "    try:\n",
    "        df = pd.read_csv(file_name, encoding='latin1')\n",
    "    except UnicodeDecodeError:\n",
    "        df = pd.read_csv(file_name, encoding='iso-8859-1')\n",
    "\n",
    "# Display the first few rows of the DataFrame\n",
    "print(\"Original DataFrame:\")\n",
    "print(df.head())"
   ]
  },
  {
   "cell_type": "code",
   "execution_count": 10,
   "id": "aed2e0c0",
   "metadata": {},
   "outputs": [
    {
     "name": "stdout",
     "output_type": "stream",
     "text": [
      "DataFrame with SMILES and Charge State String:\n",
      "   Mass_Tag_ID Peptide  Mass_Tag_Mass  Mass_Tag_NET  Charge State  Mobility  \\\n",
      "0     10098159  TAGLVR       615.3704         0.178             2     1.461   \n",
      "1     10098159  TAGLVR       615.3704         0.178             1     0.936   \n",
      "2      6702362  LTALTK       645.4061         0.200             2     1.547   \n",
      "3     20754127  IVEAVK       657.4061         0.183             2     1.413   \n",
      "4     20754127  IVEAVK       657.4061         0.183             1     0.882   \n",
      "\n",
      "   Cross-section    Slope  Intercept  R2_Value  Drift time  Organism  \\\n",
      "0        284.569   8031.1       1.54     1.000    20.642744       HP   \n",
      "1        222.205  12542.1       3.15     1.000    32.975144       HP   \n",
      "2        268.581   7587.5       1.86     0.999    19.904767       HP   \n",
      "3        293.921   8306.6       1.73     0.999    21.482614       MP   \n",
      "4        235.389  13304.7       2.12     1.000    33.758620       MP   \n",
      "\n",
      "   Unnamed: 12 Unnamed: 13                 Unnamed: 14  \\\n",
      "0          NaN          HP                Human Plasma   \n",
      "1          NaN         MP                 Mouse Plasma   \n",
      "2          NaN        Shew  Shewenella Oneidensis MR-1   \n",
      "3          NaN         NaN                         NaN   \n",
      "4          NaN         NaN                         NaN   \n",
      "\n",
      "                                              SMILES Charge State String  \\\n",
      "0  CC(C)C[C@H](NC(=O)CNC(=O)[C@H](C)NC(=O)[C@@H](...            [M+2H]2+   \n",
      "1  CC(C)C[C@H](NC(=O)CNC(=O)[C@H](C)NC(=O)[C@@H](...              [M+H]+   \n",
      "2  CC(C)C[C@H](NC(=O)[C@H](C)NC(=O)[C@@H](NC(=O)[...            [M+2H]2+   \n",
      "3  CC[C@H](C)[C@H](N)C(=O)N[C@H](C(=O)N[C@@H](CCC...            [M+2H]2+   \n",
      "4  CC[C@H](C)[C@H](N)C(=O)N[C@H](C(=O)N[C@@H](CCC...              [M+H]+   \n",
      "\n",
      "     Adduct  \n",
      "0  [M+2H]2+  \n",
      "1    [M+H]+  \n",
      "2  [M+2H]2+  \n",
      "3  [M+2H]2+  \n",
      "4    [M+H]+  \n",
      "DataFrame with SMILES and Charge State String saved to Peptides_with_smiles_and_charge.csv\n"
     ]
    }
   ],
   "source": [
    "def peptide_to_smiles(peptide_sequence):\n",
    "    # Convert peptide sequence to SMILES using RDKit\n",
    "    mol = Chem.MolFromSequence(peptide_sequence)\n",
    "    if mol:\n",
    "        return Chem.MolToSmiles(mol)\n",
    "    else:\n",
    "        return None\n",
    "\n",
    "# Assuming the peptide sequences are in a column named 'Peptide'\n",
    "# Add a new column with the SMILES representation\n",
    "df['SMILES'] = df['Peptide'].apply(peptide_to_smiles)\n",
    "\n",
    "# Function to convert charge state to the desired format, with a special case for 1\n",
    "def charge_state_to_string(charge_state):\n",
    "    if charge_state == 1:\n",
    "        return \"[M+H]+\"\n",
    "    else:\n",
    "        return f\"[M+{charge_state}H]{charge_state}+\"\n",
    "\n",
    "# Assuming the charge states are in a column named 'Charge State'\n",
    "# Add a new column with the converted charge state representation\n",
    "df['Adduct'] = df['Charge State'].apply(charge_state_to_string)\n",
    "\n",
    "# Display the first few rows of the DataFrame with SMILES and Charge State String\n",
    "print(\"DataFrame with SMILES and Charge State String:\")\n",
    "print(df.head())\n",
    "\n",
    "# Save the new DataFrame to a CSV file\n",
    "new_file_name = 'Peptides_with_smiles_and_charge.csv'\n",
    "df.to_csv(new_file_name, index=False)\n",
    "\n",
    "print(f\"DataFrame with SMILES and Charge State String saved to {new_file_name}\")"
   ]
  },
  {
   "cell_type": "code",
   "execution_count": null,
   "id": "93c80444",
   "metadata": {},
   "outputs": [],
   "source": []
  }
 ],
 "metadata": {
  "kernelspec": {
   "display_name": "Python 3 (ipykernel)",
   "language": "python",
   "name": "python3"
  },
  "language_info": {
   "codemirror_mode": {
    "name": "ipython",
    "version": 3
   },
   "file_extension": ".py",
   "mimetype": "text/x-python",
   "name": "python",
   "nbconvert_exporter": "python",
   "pygments_lexer": "ipython3",
   "version": "3.11.5"
  }
 },
 "nbformat": 4,
 "nbformat_minor": 5
}
