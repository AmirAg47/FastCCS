{
 "cells": [
  {
   "cell_type": "code",
   "execution_count": null,
   "id": "1e69397e-4a6a-40db-bbf1-478145a81796",
   "metadata": {},
   "outputs": [],
   "source": [
    "import panda\n",
    "import pickle\n",
    "from sklearn.preprocessing import OneHotEncoder\n",
    "\n",
    "\n",
    "# Assuming \"Adduct\" is the name of the column containing adduct ion types ([M + H]+, [M+Na]+, [M-H]- and .....)\n",
    "# Extract the \"Adduct\" column and reshape it for one-hot encoding\n",
    "adducts = df[\"Adduct\"].values.reshape(-1, 1)\n",
    "\n",
    "# Create a one-hot encoder\n",
    "encoder = OneHotEncoder(sparse_output=False)\n",
    "\n",
    "# Fit and transform the data to obtain the one-hot encoded representation\n",
    "one_hot_encoded = encoder.fit_transform(adducts)\n",
    "\n",
    "# Create a DataFrame from the one-hot encoded array\n",
    "one_hot_df = pd.DataFrame(one_hot_encoded, columns=encoder.get_feature_names_out([\"Adduct\"]))\n",
    "\n",
    "# Concatenate the original DataFrame with the one-hot encoded DataFrame\n",
    "df_encoded = pd.concat([df, one_hot_df], axis=1)\n",
    "\n",
    "# Drop the original \"Adduct\" column\n",
    "df_encoded.drop(columns=[\"Adduct\"], inplace=True)\n",
    "\n",
    "# Display the first few rows of the DataFrame with one-hot encoded columns\n",
    "print(\"\\nDataFrame with One-Hot Encoded Adducts:\")\n",
    "print(df_encoded.head())\n",
    "\n",
    "# Save the DataFrame with one-hot encoded columns to a new CSV file\n",
    "output_file_name = \"TrainData_encoded.csv\"\n",
    "df_encoded.to_csv(output_file_name, index=False)\n",
    "# Save the encoder to a file for later use\n",
    "with open('one_hot_encoder.pkl', 'wb') as f:\n",
    "    pickle.dump(encoder, f)\n",
    "\n",
    "print(\"\\nDataFrame with one-hot encoded Adducts saved to:\", output_file_name)"
   ]
  }
 ],
 "metadata": {
  "kernelspec": {
   "display_name": "Python 3 (ipykernel)",
   "language": "python",
   "name": "python3"
  },
  "language_info": {
   "codemirror_mode": {
    "name": "ipython",
    "version": 3
   },
   "file_extension": ".py",
   "mimetype": "text/x-python",
   "name": "python",
   "nbconvert_exporter": "python",
   "pygments_lexer": "ipython3",
   "version": "3.10.12"
  }
 },
 "nbformat": 4,
 "nbformat_minor": 5
}
